{
 "cells": [
  {
   "cell_type": "code",
   "execution_count": 16,
   "id": "initial_id",
   "metadata": {
    "collapsed": true,
    "ExecuteTime": {
     "end_time": "2023-09-27T09:22:23.898857900Z",
     "start_time": "2023-09-27T09:22:23.878859200Z"
    }
   },
   "outputs": [],
   "source": [
    "import torch\n",
    "import os\n",
    "import shutil\n",
    "from PIL import Image, ImageOps\n",
    "import cv2\n",
    "import numpy as np\n",
    "from ultralytics import YOLO"
   ]
  },
  {
   "cell_type": "code",
   "execution_count": 2,
   "outputs": [],
   "source": [
    "model = YOLO(\"yolov8m.pt\")"
   ],
   "metadata": {
    "collapsed": false,
    "ExecuteTime": {
     "end_time": "2023-09-27T08:50:20.418416700Z",
     "start_time": "2023-09-27T08:50:20.276417400Z"
    }
   },
   "id": "e78f48c2a9a6226"
  },
  {
   "cell_type": "code",
   "execution_count": null,
   "outputs": [],
   "source": [
    "!yolo predict model=yolov8n.pt source='Image/'"
   ],
   "metadata": {
    "collapsed": false
   },
   "id": "c7ef0de7f67fa4cc"
  },
  {
   "cell_type": "code",
   "execution_count": 11,
   "outputs": [],
   "source": [
    "def loadImagesPaths(path):\n",
    "    image_paths = []\n",
    "    # Get a list of image file names in the directory\n",
    "    image_files = [f for f in os.listdir(path) if f.endswith((\".jpg\", \".png\", \".jpeg\"))]\n",
    "    for image_file in image_files:\n",
    "        image_paths.append(os.path.join(path, image_file))\n",
    "    return image_paths\n",
    "\n",
    "def predictImage(image_path):\n",
    "    allBirdData = []\n",
    "    results = model.predict(source=image_path, save_crop=True, project=\"boxes\", name=\"prediction\")\n",
    "    for index in range(0, len(results[0].boxes.data)):\n",
    "        # IS IT A BIRD?\n",
    "        if (results[0].boxes.data[index][5] == 14):\n",
    "            # Extract and parse data\n",
    "            tx = torch.ceil(results[0].boxes.data[index][0]).item()\n",
    "            ty = torch.ceil(results[0].boxes.data[index][1]).item()\n",
    "            tw = torch.ceil(results[0].boxes.data[index][2]).item()\n",
    "            th = torch.ceil(results[0].boxes.data[index][3]).item()\n",
    "            score = results[0].boxes.data[index][4].item()\n",
    "            birdData = [tx, ty, tw, th, score]\n",
    "\n",
    "            allBirdData.append(birdData)\n",
    "    return allBirdData"
   ],
   "metadata": {
    "collapsed": false,
    "ExecuteTime": {
     "end_time": "2023-09-27T09:05:10.922846600Z",
     "start_time": "2023-09-27T09:05:10.548659100Z"
    }
   },
   "id": "e6f1caf7f5157cc3"
  },
  {
   "cell_type": "code",
   "execution_count": 29,
   "outputs": [],
   "source": [
    "#target_size 224/224\n",
    "def cropImages(path, target_size):\n",
    "    prediction_dirs = [d for d in os.listdir(path) if os.path.isdir(os.path.join(path, d))]\n",
    "    imageNumber = 0\n",
    "    for prediction_dir in prediction_dirs:\n",
    "        # Construct the path to the \"crop\" folder within the prediction directory\n",
    "        crop_folder = os.path.join(path, prediction_dir, \"crops/bird/\")\n",
    "\n",
    "        # Ensure the \"crop\" folder exists\n",
    "        if not os.path.exists(crop_folder):\n",
    "            continue  # Skip if \"crop\" folder is not found\n",
    "\n",
    "        # Get a list of image files in the \"crop\" folder\n",
    "        image_files = [f for f in os.listdir(crop_folder) if f.endswith((\".jpg\", \".png\", \".jpeg\"))]\n",
    "\n",
    "        for image_file in image_files:\n",
    "            imageNumber += 1\n",
    "            # Construct the full path to the image file\n",
    "            image_path = os.path.join(crop_folder, image_file)\n",
    "\n",
    "            image = Image.open(image_path)\n",
    "            old_image_height, old_image_width = image.size\n",
    "\n",
    "            # Calculate the target size based on the larger dimension\n",
    "            max_dimension = max(old_image_width, old_image_height)\n",
    "            #target_size = (max_dimension, max_dimension)\n",
    "\n",
    "            # Calculate the horizontal and vertical padding amounts\n",
    "            horizontal_padding = max(0, max_dimension - old_image_width)\n",
    "            vertical_padding = max(0, max_dimension - old_image_height)\n",
    "\n",
    "            # Calculate padding parameters as (left, top, right, bottom)\n",
    "            padding = (horizontal_padding // 2, vertical_padding // 2, horizontal_padding - (horizontal_padding // 2), vertical_padding - (vertical_padding // 2))\n",
    "\n",
    "            # Pad the image\n",
    "            res_image = ImageOps.expand(image, padding, fill=\"white\")\n",
    "            # Resize the padded image to the target size\n",
    "            #print(\"Befor Lanc\", image.size)\n",
    "            #print(\"1\", target_size)\n",
    "            res_image = res_image.resize(target_size, Image.LANCZOS)\n",
    "            #print(\"after Lanc\", res_image.size)\n",
    "            #print(\"2\", target_size)\n",
    "\n",
    "            # Save the image\n",
    "            res_image.save(f\"cropped_images/bird{imageNumber}.png\")"
   ],
   "metadata": {
    "collapsed": false,
    "ExecuteTime": {
     "end_time": "2023-09-27T09:36:12.701366100Z",
     "start_time": "2023-09-27T09:36:12.688370400Z"
    }
   },
   "id": "7b850fe3a2e6ff43"
  },
  {
   "cell_type": "code",
   "execution_count": 5,
   "outputs": [],
   "source": [
    "def deleteimages(path):\n",
    "    # Get a list of all files and subdirectories in the directory\n",
    "    directory_contents = os.listdir(path)\n",
    "\n",
    "    # Iterate through the contents and remove them\n",
    "    print(directory_contents)\n",
    "    for item in directory_contents:\n",
    "        item_path = os.path.join(path, item)\n",
    "        if os.path.isfile(item_path):\n",
    "            # Remove files\n",
    "            os.remove(item_path)\n",
    "        elif os.path.isdir(item_path):\n",
    "            # Remove directories and their contents (recursively)\n",
    "            shutil.rmtree(item_path)\n",
    "\n",
    "#deleteimages(\"boxes/\")\n",
    "#deleteimages(\"cropped_images/\")"
   ],
   "metadata": {
    "collapsed": false,
    "ExecuteTime": {
     "end_time": "2023-09-27T08:50:26.724783200Z",
     "start_time": "2023-09-27T08:50:26.685267200Z"
    }
   },
   "id": "7564eaedb7ebaeba"
  },
  {
   "cell_type": "code",
   "execution_count": 32,
   "outputs": [
    {
     "name": "stderr",
     "output_type": "stream",
     "text": [
      "\n"
     ]
    },
    {
     "name": "stdout",
     "output_type": "stream",
     "text": [
      "['bird1.png', 'bird2.png', 'bird3.png', 'bird4.png', 'bird5.png', 'bird6.png', 'bird7.png', 'bird8.png', 'bird9.png', 'bird10.png', 'bird11.png']\n"
     ]
    },
    {
     "name": "stderr",
     "output_type": "stream",
     "text": [
      "image 1/1 H:\\Universitets-saker\\D7057E\\AI\\YoloV8\\images\\fagel.jpg: 448x640 1 bird, 925.5ms\n",
      "Speed: 3.0ms preprocess, 925.5ms inference, 3.0ms postprocess per image at shape (1, 3, 448, 640)\n",
      "Results saved to \u001B[1mboxes\\prediction\u001B[0m\n",
      "\n",
      "image 1/1 H:\\Universitets-saker\\D7057E\\AI\\YoloV8\\images\\two_birds.jpg: 352x640 2 birds, 562.0ms\n",
      "Speed: 3.0ms preprocess, 562.0ms inference, 2.0ms postprocess per image at shape (1, 3, 352, 640)\n",
      "Results saved to \u001B[1mboxes\\prediction2\u001B[0m\n",
      "\n",
      "image 1/1 H:\\Universitets-saker\\D7057E\\AI\\YoloV8\\images\\Bird.jpg: 480x640 1 bird, 586.0ms\n",
      "Speed: 3.0ms preprocess, 586.0ms inference, 2.0ms postprocess per image at shape (1, 3, 480, 640)\n",
      "Results saved to \u001B[1mboxes\\prediction3\u001B[0m\n",
      "\n",
      "image 1/1 H:\\Universitets-saker\\D7057E\\AI\\YoloV8\\images\\Bird2.jpg: 448x640 1 bird, 577.0ms\n",
      "Speed: 3.0ms preprocess, 577.0ms inference, 2.0ms postprocess per image at shape (1, 3, 448, 640)\n",
      "Results saved to \u001B[1mboxes\\prediction4\u001B[0m\n",
      "\n",
      "image 1/1 H:\\Universitets-saker\\D7057E\\AI\\YoloV8\\images\\Bird3.jpg: 448x640 1 bear, 565.6ms\n",
      "Speed: 2.0ms preprocess, 565.6ms inference, 3.0ms postprocess per image at shape (1, 3, 448, 640)\n",
      "Results saved to \u001B[1mboxes\\prediction5\u001B[0m\n",
      "\n",
      "image 1/1 H:\\Universitets-saker\\D7057E\\AI\\YoloV8\\images\\Bird6.jpg: 416x640 1 bird, 521.0ms\n",
      "Speed: 2.0ms preprocess, 521.0ms inference, 3.0ms postprocess per image at shape (1, 3, 416, 640)\n",
      "Results saved to \u001B[1mboxes\\prediction6\u001B[0m\n",
      "\n",
      "image 1/1 H:\\Universitets-saker\\D7057E\\AI\\YoloV8\\images\\Bird8.jpg: 448x640 1 bird, 542.0ms\n",
      "Speed: 3.0ms preprocess, 542.0ms inference, 2.0ms postprocess per image at shape (1, 3, 448, 640)\n",
      "Results saved to \u001B[1mboxes\\prediction7\u001B[0m\n",
      "\n",
      "image 1/1 H:\\Universitets-saker\\D7057E\\AI\\YoloV8\\images\\canary.jpg: 384x640 1 bird, 461.7ms\n",
      "Speed: 2.0ms preprocess, 461.7ms inference, 1.0ms postprocess per image at shape (1, 3, 384, 640)\n",
      "Results saved to \u001B[1mboxes\\prediction8\u001B[0m\n",
      "\n",
      "image 1/1 H:\\Universitets-saker\\D7057E\\AI\\YoloV8\\images\\1800.png: 480x640 2 birds, 547.8ms\n",
      "Speed: 3.0ms preprocess, 547.8ms inference, 1.0ms postprocess per image at shape (1, 3, 480, 640)\n",
      "Results saved to \u001B[1mboxes\\prediction9\u001B[0m\n",
      "\n",
      "image 1/1 H:\\Universitets-saker\\D7057E\\AI\\YoloV8\\images\\skata01_original.jpg: 416x640 1 bird, 478.0ms\n",
      "Speed: 2.0ms preprocess, 478.0ms inference, 3.0ms postprocess per image at shape (1, 3, 416, 640)\n",
      "Results saved to \u001B[1mboxes\\prediction10\u001B[0m\n",
      "\n",
      "image 1/1 H:\\Universitets-saker\\D7057E\\AI\\YoloV8\\images\\skata_210306_9040.jpg: 544x640 1 bird, 721.0ms\n",
      "Speed: 4.0ms preprocess, 721.0ms inference, 2.0ms postprocess per image at shape (1, 3, 544, 640)\n",
      "Results saved to \u001B[1mboxes\\prediction11\u001B[0m\n"
     ]
    },
    {
     "name": "stdout",
     "output_type": "stream",
     "text": [
      "Befor Lanc (356, 337)\n",
      "1 (224, 224)\n",
      "after Lanc (224, 224)\n",
      "2 (224, 224)\n",
      "Befor Lanc (390, 452)\n",
      "1 (224, 224)\n",
      "after Lanc (224, 224)\n",
      "2 (224, 224)\n",
      "Befor Lanc (353, 375)\n",
      "1 (224, 224)\n",
      "after Lanc (224, 224)\n",
      "2 (224, 224)\n",
      "Befor Lanc (332, 273)\n",
      "1 (224, 224)\n",
      "after Lanc (224, 224)\n",
      "2 (224, 224)\n",
      "Befor Lanc (750, 679)\n",
      "1 (224, 224)\n",
      "after Lanc (224, 224)\n",
      "2 (224, 224)\n",
      "Befor Lanc (93, 88)\n",
      "1 (224, 224)\n",
      "after Lanc (224, 224)\n",
      "2 (224, 224)\n",
      "Befor Lanc (176, 64)\n",
      "1 (224, 224)\n",
      "after Lanc (224, 224)\n",
      "2 (224, 224)\n",
      "Befor Lanc (139, 157)\n",
      "1 (224, 224)\n",
      "after Lanc (224, 224)\n",
      "2 (224, 224)\n",
      "Befor Lanc (251, 381)\n",
      "1 (224, 224)\n",
      "after Lanc (224, 224)\n",
      "2 (224, 224)\n",
      "Befor Lanc (49, 47)\n",
      "1 (224, 224)\n",
      "after Lanc (224, 224)\n",
      "2 (224, 224)\n",
      "Befor Lanc (333, 214)\n",
      "1 (224, 224)\n",
      "after Lanc (224, 224)\n",
      "2 (224, 224)\n",
      "Befor Lanc (1016, 1188)\n",
      "1 (224, 224)\n",
      "after Lanc (224, 224)\n",
      "2 (224, 224)\n",
      "['prediction', 'prediction2', 'prediction3', 'prediction4', 'prediction5', 'prediction6', 'prediction7', 'prediction8', 'prediction9', 'prediction10', 'prediction11']\n"
     ]
    }
   ],
   "source": [
    "def runClassifcation():\n",
    "    deleteimages(\"cropped_images/\")\n",
    "    image_paths = loadImagesPaths(path=\"images/\")\n",
    "    predictions = []\n",
    "    for image in image_paths:\n",
    "        predictions.append(predictImage(image))\n",
    "    cropImages(path=\"boxes/\", target_size=(224, 224))\n",
    "    deleteimages(\"boxes/\")\n",
    "\n",
    "runClassifcation()"
   ],
   "metadata": {
    "collapsed": false,
    "ExecuteTime": {
     "end_time": "2023-09-27T09:43:25.209295800Z",
     "start_time": "2023-09-27T09:43:16.167578600Z"
    }
   },
   "id": "830e5128f77c6a0f"
  }
 ],
 "metadata": {
  "kernelspec": {
   "display_name": "Python 3",
   "language": "python",
   "name": "python3"
  },
  "language_info": {
   "codemirror_mode": {
    "name": "ipython",
    "version": 2
   },
   "file_extension": ".py",
   "mimetype": "text/x-python",
   "name": "python",
   "nbconvert_exporter": "python",
   "pygments_lexer": "ipython2",
   "version": "2.7.6"
  }
 },
 "nbformat": 4,
 "nbformat_minor": 5
}
