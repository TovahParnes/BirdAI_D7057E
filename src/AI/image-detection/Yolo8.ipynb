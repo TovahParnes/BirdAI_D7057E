{
 "cells": [
  {
   "cell_type": "code",
   "execution_count": 151,
   "id": "initial_id",
   "metadata": {
    "collapsed": true,
    "ExecuteTime": {
     "end_time": "2023-09-27T09:22:23.898857900Z",
     "start_time": "2023-09-27T09:22:23.878859200Z"
    }
   },
   "outputs": [],
   "source": [
    "import torch\n",
    "import os\n",
    "import shutil\n",
    "from PIL import Image, ImageOps\n",
    "import cv2\n",
    "import numpy as np\n",
    "from ultralytics import YOLO"
   ]
  },
  {
   "cell_type": "code",
   "execution_count": 152,
   "outputs": [],
   "source": [
    "model = YOLO(\"yolov8m.pt\")"
   ],
   "metadata": {
    "collapsed": false,
    "ExecuteTime": {
     "end_time": "2023-09-27T08:50:20.418416700Z",
     "start_time": "2023-09-27T08:50:20.276417400Z"
    }
   },
   "id": "e78f48c2a9a6226"
  },
  {
   "cell_type": "code",
   "execution_count": 153,
   "outputs": [],
   "source": [
    "#!yolo predict model=yolov8n.pt source='Images/'"
   ],
   "metadata": {
    "collapsed": false
   },
   "id": "c7ef0de7f67fa4cc"
  },
  {
   "cell_type": "code",
   "execution_count": 154,
   "outputs": [],
   "source": [
    "def loadImagesPaths(path):\n",
    "    image_paths = []\n",
    "    # Get a list of image file names in the directory\n",
    "    image_files = [f for f in os.listdir(path) if f.endswith((\".jpg\", \".png\", \".jpeg\"))]\n",
    "    for image_file in image_files:\n",
    "        image_paths.append(os.path.join(path, image_file))\n",
    "    return image_paths\n",
    "\n",
    "def predictImage(image_path, rotations):\n",
    "    allBirdData = []\n",
    "    image = Image.open(image_path)\n",
    "    rotatedImages = rotateImage(image, rotations, multipleImages=False)\n",
    "    for img in rotatedImages:\n",
    "        results = model.predict(source=img, save_crop=True, project=\"boxes\", name=\"prediction\")\n",
    "        #results = model.predict(source=image_path, save_crop=True, project=\"boxes\", name=\"prediction\")\n",
    "        for index in range(0, len(results[0].boxes.data)):\n",
    "            # IS IT A BIRD?\n",
    "            if (results[0].boxes.data[index][5] == 14):\n",
    "                # Extract and parse data\n",
    "                tx = torch.ceil(results[0].boxes.data[index][0]).item()\n",
    "                ty = torch.ceil(results[0].boxes.data[index][1]).item()\n",
    "                tw = torch.ceil(results[0].boxes.data[index][2]).item()\n",
    "                th = torch.ceil(results[0].boxes.data[index][3]).item()\n",
    "                score = results[0].boxes.data[index][4].item()\n",
    "                birdData = [tx, ty, tw, th, score]\n",
    "\n",
    "                allBirdData.append(birdData)\n",
    "    return allBirdData"
   ],
   "metadata": {
    "collapsed": false,
    "ExecuteTime": {
     "end_time": "2023-09-27T09:05:10.922846600Z",
     "start_time": "2023-09-27T09:05:10.548659100Z"
    }
   },
   "id": "e6f1caf7f5157cc3"
  },
  {
   "cell_type": "code",
   "execution_count": 155,
   "outputs": [],
   "source": [
    "def rotateImage(image, rotations, multipleImages):\n",
    "    images = []\n",
    "    if rotations==0:\n",
    "        images.append(image)\n",
    "        return images\n",
    "    if multipleImages:\n",
    "        for rotation in range(rotations+1):\n",
    "            images.append(image.rotate(rotation*90, expand=True))\n",
    "    else:\n",
    "        images.append(image.rotate(rotations*90, expand=True))\n",
    "    return images\n",
    "\n",
    "#target_size 224/224\n",
    "def cropImages(path, target_size):\n",
    "    prediction_dirs = [d for d in os.listdir(path) if os.path.isdir(os.path.join(path, d))]\n",
    "    imageNumber = 0\n",
    "    for prediction_dir in prediction_dirs:\n",
    "        # Construct the path to the \"crop\" folder within the prediction directory\n",
    "        crop_folder = os.path.join(path, prediction_dir, \"crops/bird/\")\n",
    "\n",
    "        # Ensure the \"crop\" folder exists\n",
    "        if not os.path.exists(crop_folder):\n",
    "            continue  # Skip if \"crop\" folder is not found\n",
    "\n",
    "        # Get a list of image files in the \"crop\" folder\n",
    "        image_files = [f for f in os.listdir(crop_folder) if f.endswith((\".jpg\", \".png\", \".jpeg\"))]\n",
    "\n",
    "        for image_file in image_files:\n",
    "            imageNumber += 1\n",
    "            # Construct the full path to the image file\n",
    "            image_path = os.path.join(crop_folder, image_file)\n",
    "\n",
    "            image = Image.open(image_path)\n",
    "            paddedImage = padImage(image, target_size)\n",
    "            res_image = paddedImage.resize(target_size, Image.LANCZOS)\n",
    "            # Save the image\n",
    "            res_image.save(f\"cropped_images/bird{imageNumber}.png\")\n",
    "\n",
    "def padImage(image, targetSize):\n",
    "        imageWidth, imageHeight = image.size\n",
    "        #AR = aspect ratio\n",
    "        currentAspectRatio = imageWidth/imageHeight\n",
    "        targetAspectRatio = targetSize[0]/targetSize[1]\n",
    "        if currentAspectRatio > targetAspectRatio:  # Vertical padding\n",
    "            verticalPadding = int(((imageWidth/targetAspectRatio)-imageHeight)/2)\n",
    "            #print(\"vertical padding: \", verticalPadding)\n",
    "            padding = (0, verticalPadding, 0, verticalPadding)\n",
    "            paddedImage = ImageOps.expand(image, padding, fill=\"white\")\n",
    "\n",
    "        elif currentAspectRatio < targetAspectRatio:    # Horizontal padding\n",
    "            horizontalPadding = int(((targetAspectRatio*imageHeight)-imageWidth)/2)\n",
    "            #print(\"horizontal padding: \", horizontalPadding)\n",
    "            padding = (horizontalPadding, 0, horizontalPadding, 0)\n",
    "            paddedImage = ImageOps.expand(image, padding, fill=\"white\")\n",
    "\n",
    "        else:\n",
    "            paddedImage = image\n",
    "\n",
    "        #paddedImage.show()\n",
    "        #print(\"Og size: \" , image.size, \"AR: \", currentAspectRatio)\n",
    "        #print(\"Pad size: \" , paddedImage.size, \"AR: \", paddedImage.size[0]/paddedImage.size[1])\n",
    "        #print(\"Tar size: \" , targetSize, \"AR: \", targetAspectRatio, \"\\n\")\n",
    "        return paddedImage"
   ],
   "metadata": {
    "collapsed": false,
    "ExecuteTime": {
     "end_time": "2023-09-27T09:36:12.701366100Z",
     "start_time": "2023-09-27T09:36:12.688370400Z"
    }
   },
   "id": "7b850fe3a2e6ff43"
  },
  {
   "cell_type": "code",
   "execution_count": 156,
   "outputs": [],
   "source": [
    "def deleteimages(path):\n",
    "    # Get a list of all files and subdirectories in the directory\n",
    "    directory_contents = os.listdir(path)\n",
    "\n",
    "    # Iterate through the contents and remove them\n",
    "    #print(directory_contents)\n",
    "    for item in directory_contents:\n",
    "        item_path = os.path.join(path, item)\n",
    "        if os.path.isfile(item_path):\n",
    "            # Remove files\n",
    "            os.remove(item_path)\n",
    "        elif os.path.isdir(item_path):\n",
    "            # Remove directories and their contents (recursively)\n",
    "            shutil.rmtree(item_path)"
   ],
   "metadata": {
    "collapsed": false,
    "ExecuteTime": {
     "end_time": "2023-09-27T08:50:26.724783200Z",
     "start_time": "2023-09-27T08:50:26.685267200Z"
    }
   },
   "id": "7564eaedb7ebaeba"
  },
  {
   "cell_type": "code",
   "execution_count": 157,
   "outputs": [
    {
     "name": "stderr",
     "output_type": "stream",
     "text": [
      "\n",
      "0: 448x640 1 bird, 324.1ms\n",
      "Speed: 2.0ms preprocess, 324.1ms inference, 1.0ms postprocess per image at shape (1, 3, 448, 640)\n",
      "Results saved to \u001B[1mboxes\\prediction\u001B[0m\n",
      "\n",
      "0: 640x384 1 bird, 261.5ms\n",
      "Speed: 1.0ms preprocess, 261.5ms inference, 0.0ms postprocess per image at shape (1, 3, 640, 384)\n",
      "Results saved to \u001B[1mboxes\\prediction2\u001B[0m\n",
      "\n",
      "0: 352x640 2 birds, 265.0ms\n",
      "Speed: 2.0ms preprocess, 265.0ms inference, 2.0ms postprocess per image at shape (1, 3, 352, 640)\n",
      "Results saved to \u001B[1mboxes\\prediction3\u001B[0m\n"
     ]
    }
   ],
   "source": [
    "def runClassifcation():\n",
    "    deleteimages(\"cropped_images/\")\n",
    "    image_paths = loadImagesPaths(path=\"images/\")\n",
    "    predictions = []\n",
    "    for image_path in image_paths:\n",
    "        predictions.append(predictImage(image_path=image_path, rotations=0))\n",
    "    cropImages(path=\"boxes/\", target_size=(224, 224))\n",
    "    deleteimages(\"boxes/\")\n",
    "\n",
    "runClassifcation()"
   ],
   "metadata": {
    "collapsed": false,
    "ExecuteTime": {
     "end_time": "2023-09-27T09:43:25.209295800Z",
     "start_time": "2023-09-27T09:43:16.167578600Z"
    }
   },
   "id": "830e5128f77c6a0f"
  }
 ],
 "metadata": {
  "kernelspec": {
   "display_name": "Python 3",
   "language": "python",
   "name": "python3"
  },
  "language_info": {
   "codemirror_mode": {
    "name": "ipython",
    "version": 2
   },
   "file_extension": ".py",
   "mimetype": "text/x-python",
   "name": "python",
   "nbconvert_exporter": "python",
   "pygments_lexer": "ipython2",
   "version": "2.7.6"
  }
 },
 "nbformat": 4,
 "nbformat_minor": 5
}
