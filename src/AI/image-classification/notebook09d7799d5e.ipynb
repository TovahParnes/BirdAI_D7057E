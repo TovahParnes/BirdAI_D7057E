{
 "metadata": {
  "kernelspec": {
   "language": "python",
   "display_name": "Python 3",
   "name": "python3"
  },
  "language_info": {
   "name": "python",
   "version": "3.10.12",
   "mimetype": "text/x-python",
   "codemirror_mode": {
    "name": "ipython",
    "version": 3
   },
   "pygments_lexer": "ipython3",
   "nbconvert_exporter": "python",
   "file_extension": ".py"
  }
 },
 "nbformat_minor": 4,
 "nbformat": 4,
 "cells": [
  {
   "cell_type": "markdown",
   "source": [
    "### Overview about the project:\n",
    "In this project I will overview the dataset 525-bird-species. I will explore the data, transform it into a format for modeling, and then create classification models to predict the species of birds given a picture of a bird."
   ],
   "metadata": {}
  },
  {
   "cell_type": "markdown",
   "source": [
    "### About The Data:\n",
    "\n",
    "Data set of 525 bird species. 84635 training images, 2625 test images and 2625 validation images\n",
    "All images are 224 X 224 X 3 color images in jpg format. Data set includes a train set, test set and validation set. Each set contains 525 sub directories, one for each bird species"
   ],
   "metadata": {}
  },
  {
   "cell_type": "markdown",
   "source": [
    "### Summary Of Methods:\n",
    "\n",
    "For each model, I used the imagedatagenerator in keras. I created each model as described below. Each model is compiled using a batchsize/samples ratio for the epochs_per_step (on training and validation steps). The compiled models are fit to the generator data for epochs required with patience of 5. I graphed the validation and training data loss and accuracy as a function of epochs. Finally, the third dataset - test - was compared to the model to give a true accuracy and loss value for each fit model."
   ],
   "metadata": {}
  },
  {
   "cell_type": "markdown",
   "source": [
    "### Analysis of Results:\n",
    "Best accuracy achived by MobileNet(94.5% accuracy)"
   ],
   "metadata": {}
  },
  {
   "cell_type": "code",
   "source": [
    "#Import packages used here:\n",
    "\n",
    "import numpy as np\n",
    "import os\n",
    "import random\n",
    "import matplotlib.pyplot as plt\n",
    "\n",
    "import tensorflow as tf\n",
    "from tensorflow import keras\n",
    "from tensorflow.keras import layers\n",
    "from tensorflow.keras.utils import image_dataset_from_directory\n",
    "from keras.preprocessing.image import ImageDataGenerator\n",
    "\n",
    "print(np.__version__)"
   ],
   "metadata": {
    "_uuid": "8f2839f25d086af736a60e9eeb907d3b93b6e0e5",
    "_cell_guid": "b1076dfc-b9ad-4769-8c92-a6c4dae69d19",
    "execution": {
     "iopub.status.busy": "2023-09-11T14:30:29.602735Z",
     "iopub.execute_input": "2023-09-11T14:30:29.60351Z",
     "iopub.status.idle": "2023-09-11T14:30:29.611726Z",
     "shell.execute_reply.started": "2023-09-11T14:30:29.603475Z",
     "shell.execute_reply": "2023-09-11T14:30:29.610818Z"
    },
    "jupyter": {
     "source_hidden": true
    },
    "trusted": true,
    "ExecuteTime": {
     "end_time": "2023-09-20T10:01:23.573746400Z",
     "start_time": "2023-09-20T10:01:17.393019600Z"
    }
   },
   "execution_count": 1,
   "outputs": [
    {
     "name": "stdout",
     "output_type": "stream",
     "text": [
      "1.24.3\n"
     ]
    }
   ]
  },
  {
   "cell_type": "code",
   "source": [
    "# setup my directories\n",
    "train_directory = 'input/100-bird-species/train'\n",
    "test_directory = 'input/100-bird-species/test'\n",
    "val_directory = 'input/100-bird-species/valid'"
   ],
   "metadata": {
    "execution": {
     "iopub.status.busy": "2023-09-11T14:30:29.613846Z",
     "iopub.execute_input": "2023-09-11T14:30:29.614586Z",
     "iopub.status.idle": "2023-09-11T14:30:29.621603Z",
     "shell.execute_reply.started": "2023-09-11T14:30:29.614552Z",
     "shell.execute_reply": "2023-09-11T14:30:29.620672Z"
    },
    "trusted": true,
    "ExecuteTime": {
     "end_time": "2023-09-20T10:01:23.587751600Z",
     "start_time": "2023-09-20T10:01:23.372747600Z"
    }
   },
   "execution_count": 2,
   "outputs": []
  },
  {
   "cell_type": "code",
   "source": [
    "categories = os.listdir(train_directory) # list the names of the categories that in my data\n",
    "print(str(len(categories)),'CATEGORIES are ', categories)\n",
    "\n",
    "category_count = len(categories)\n",
    "# we will use \"category_count\" as the number of classes that we need to classify instead of typing 525 because the data is continuously increasing"
   ],
   "metadata": {
    "execution": {
     "iopub.status.busy": "2023-09-11T14:30:29.623782Z",
     "iopub.execute_input": "2023-09-11T14:30:29.624338Z",
     "iopub.status.idle": "2023-09-11T14:30:29.711342Z",
     "shell.execute_reply.started": "2023-09-11T14:30:29.624304Z",
     "shell.execute_reply": "2023-09-11T14:30:29.710385Z"
    },
    "trusted": true,
    "ExecuteTime": {
     "end_time": "2023-09-20T10:01:23.615747700Z",
     "start_time": "2023-09-20T10:01:23.372747600Z"
    }
   },
   "execution_count": 3,
   "outputs": [
    {
     "name": "stdout",
     "output_type": "stream",
     "text": [
      "525 CATEGORIES are  ['ABBOTTS BABBLER', 'ABBOTTS BOOBY', 'ABYSSINIAN GROUND HORNBILL', 'AFRICAN CROWNED CRANE', 'AFRICAN EMERALD CUCKOO', 'AFRICAN FIREFINCH', 'AFRICAN OYSTER CATCHER', 'AFRICAN PIED HORNBILL', 'AFRICAN PYGMY GOOSE', 'ALBATROSS', 'ALBERTS TOWHEE', 'ALEXANDRINE PARAKEET', 'ALPINE CHOUGH', 'ALTAMIRA YELLOWTHROAT', 'AMERICAN AVOCET', 'AMERICAN BITTERN', 'AMERICAN COOT', 'AMERICAN DIPPER', 'AMERICAN FLAMINGO', 'AMERICAN GOLDFINCH', 'AMERICAN KESTREL', 'AMERICAN PIPIT', 'AMERICAN REDSTART', 'AMERICAN ROBIN', 'AMERICAN WIGEON', 'AMETHYST WOODSTAR', 'ANDEAN GOOSE', 'ANDEAN LAPWING', 'ANDEAN SISKIN', 'ANHINGA', 'ANIANIAU', 'ANNAS HUMMINGBIRD', 'ANTBIRD', 'ANTILLEAN EUPHONIA', 'APAPANE', 'APOSTLEBIRD', 'ARARIPE MANAKIN', 'ASHY STORM PETREL', 'ASHY THRUSHBIRD', 'ASIAN CRESTED IBIS', 'ASIAN DOLLARD BIRD', 'ASIAN GREEN BEE EATER', 'ASIAN OPENBILL STORK', 'AUCKLAND SHAQ', 'AUSTRAL CANASTERO', 'AUSTRALASIAN FIGBIRD', 'AVADAVAT', 'AZARAS SPINETAIL', 'AZURE BREASTED PITTA', 'AZURE JAY', 'AZURE TANAGER', 'AZURE TIT', 'BAIKAL TEAL', 'BALD EAGLE', 'BALD IBIS', 'BALI STARLING', 'BALTIMORE ORIOLE', 'BANANAQUIT', 'BAND TAILED GUAN', 'BANDED BROADBILL', 'BANDED PITA', 'BANDED STILT', 'BAR-TAILED GODWIT', 'BARN OWL', 'BARN SWALLOW', 'BARRED PUFFBIRD', 'BARROWS GOLDENEYE', 'BAY-BREASTED WARBLER', 'BEARDED BARBET', 'BEARDED BELLBIRD', 'BEARDED REEDLING', 'BELTED KINGFISHER', 'BIRD OF PARADISE', 'BLACK AND YELLOW BROADBILL', 'BLACK BAZA', 'BLACK BREASTED PUFFBIRD', 'BLACK COCKATO', 'BLACK FACED SPOONBILL', 'BLACK FRANCOLIN', 'BLACK HEADED CAIQUE', 'BLACK NECKED STILT', 'BLACK SKIMMER', 'BLACK SWAN', 'BLACK TAIL CRAKE', 'BLACK THROATED BUSHTIT', 'BLACK THROATED HUET', 'BLACK THROATED WARBLER', 'BLACK VENTED SHEARWATER', 'BLACK VULTURE', 'BLACK-CAPPED CHICKADEE', 'BLACK-NECKED GREBE', 'BLACK-THROATED SPARROW', 'BLACKBURNIAM WARBLER', 'BLONDE CRESTED WOODPECKER', 'BLOOD PHEASANT', 'BLUE COAU', 'BLUE DACNIS', 'BLUE GRAY GNATCATCHER', 'BLUE GROSBEAK', 'BLUE GROUSE', 'BLUE HERON', 'BLUE MALKOHA', 'BLUE THROATED PIPING GUAN', 'BLUE THROATED TOUCANET', 'BOBOLINK', 'BORNEAN BRISTLEHEAD', 'BORNEAN LEAFBIRD', 'BORNEAN PHEASANT', 'BRANDT CORMARANT', 'BREWERS BLACKBIRD', 'BROWN CREPPER', 'BROWN HEADED COWBIRD', 'BROWN NOODY', 'BROWN THRASHER', 'BUFFLEHEAD', 'BULWERS PHEASANT', 'BURCHELLS COURSER', 'BUSH TURKEY', 'CAATINGA CACHOLOTE', 'CABOTS TRAGOPAN', 'CACTUS WREN', 'CALIFORNIA CONDOR', 'CALIFORNIA GULL', 'CALIFORNIA QUAIL', 'CAMPO FLICKER', 'CANARY', 'CANVASBACK', 'CAPE GLOSSY STARLING', 'CAPE LONGCLAW', 'CAPE MAY WARBLER', 'CAPE ROCK THRUSH', 'CAPPED HERON', 'CAPUCHINBIRD', 'CARMINE BEE-EATER', 'CASPIAN TERN', 'CASSOWARY', 'CEDAR WAXWING', 'CERULEAN WARBLER', 'CHARA DE COLLAR', 'CHATTERING LORY', 'CHESTNET BELLIED EUPHONIA', 'CHESTNUT WINGED CUCKOO', 'CHINESE BAMBOO PARTRIDGE', 'CHINESE POND HERON', 'CHIPPING SPARROW', 'CHUCAO TAPACULO', 'CHUKAR PARTRIDGE', 'CINNAMON ATTILA', 'CINNAMON FLYCATCHER', 'CINNAMON TEAL', 'CLARKS GREBE', 'CLARKS NUTCRACKER', 'COCK OF THE  ROCK', 'COCKATOO', 'COLLARED ARACARI', 'COLLARED CRESCENTCHEST', 'COMMON FIRECREST', 'COMMON GRACKLE', 'COMMON HOUSE MARTIN', 'COMMON IORA', 'COMMON LOON', 'COMMON POORWILL', 'COMMON STARLING', 'COPPERSMITH BARBET', 'COPPERY TAILED COUCAL', 'CRAB PLOVER', 'CRANE HAWK', 'CREAM COLORED WOODPECKER', 'CRESTED AUKLET', 'CRESTED CARACARA', 'CRESTED COUA', 'CRESTED FIREBACK', 'CRESTED KINGFISHER', 'CRESTED NUTHATCH', 'CRESTED OROPENDOLA', 'CRESTED SERPENT EAGLE', 'CRESTED SHRIKETIT', 'CRESTED WOOD PARTRIDGE', 'CRIMSON CHAT', 'CRIMSON SUNBIRD', 'CROW', 'CUBAN TODY', 'CUBAN TROGON', 'CURL CRESTED ARACURI', 'D-ARNAUDS BARBET', 'DALMATIAN PELICAN', 'DARJEELING WOODPECKER', 'DARK EYED JUNCO', 'DAURIAN REDSTART', 'DEMOISELLE CRANE', 'DOUBLE BARRED FINCH', 'DOUBLE BRESTED CORMARANT', 'DOUBLE EYED FIG PARROT', 'DOWNY WOODPECKER', 'DUNLIN', 'DUSKY LORY', 'DUSKY ROBIN', 'EARED PITA', 'EASTERN BLUEBIRD', 'EASTERN BLUEBONNET', 'EASTERN GOLDEN WEAVER', 'EASTERN MEADOWLARK', 'EASTERN ROSELLA', 'EASTERN TOWEE', 'EASTERN WIP POOR WILL', 'EASTERN YELLOW ROBIN', 'ECUADORIAN HILLSTAR', 'EGYPTIAN GOOSE', 'ELEGANT TROGON', 'ELLIOTS  PHEASANT', 'EMERALD TANAGER', 'EMPEROR PENGUIN', 'EMU', 'ENGGANO MYNA', 'EURASIAN BULLFINCH', 'EURASIAN GOLDEN ORIOLE', 'EURASIAN MAGPIE', 'EUROPEAN GOLDFINCH', 'EUROPEAN TURTLE DOVE', 'EVENING GROSBEAK', 'FAIRY BLUEBIRD', 'FAIRY PENGUIN', 'FAIRY TERN', 'FAN TAILED WIDOW', 'FASCIATED WREN', 'FIERY MINIVET', 'FIORDLAND PENGUIN', 'FIRE TAILLED MYZORNIS', 'FLAME BOWERBIRD', 'FLAME TANAGER', 'FOREST WAGTAIL', 'FRIGATE', 'FRILL BACK PIGEON', 'GAMBELS QUAIL', 'GANG GANG COCKATOO', 'GILA WOODPECKER', 'GILDED FLICKER', 'GLOSSY IBIS', 'GO AWAY BIRD', 'GOLD WING WARBLER', 'GOLDEN BOWER BIRD', 'GOLDEN CHEEKED WARBLER', 'GOLDEN CHLOROPHONIA', 'GOLDEN EAGLE', 'GOLDEN PARAKEET', 'GOLDEN PHEASANT', 'GOLDEN PIPIT', 'GOULDIAN FINCH', 'GRANDALA', 'GRAY CATBIRD', 'GRAY KINGBIRD', 'GRAY PARTRIDGE', 'GREAT ARGUS', 'GREAT GRAY OWL', 'GREAT JACAMAR', 'GREAT KISKADEE', 'GREAT POTOO', 'GREAT TINAMOU', 'GREAT XENOPS', 'GREATER PEWEE', 'GREATER PRAIRIE CHICKEN', 'GREATOR SAGE GROUSE', 'GREEN BROADBILL', 'GREEN JAY', 'GREEN MAGPIE', 'GREEN WINGED DOVE', 'GREY CUCKOOSHRIKE', 'GREY HEADED CHACHALACA', 'GREY HEADED FISH EAGLE', 'GREY PLOVER', 'GROVED BILLED ANI', 'GUINEA TURACO', 'GUINEAFOWL', 'GURNEYS PITTA', 'GYRFALCON', 'HAMERKOP', 'HARLEQUIN DUCK', 'HARLEQUIN QUAIL', 'HARPY EAGLE', 'HAWAIIAN GOOSE', 'HAWFINCH', 'HELMET VANGA', 'HEPATIC TANAGER', 'HIMALAYAN BLUETAIL', 'HIMALAYAN MONAL', 'HOATZIN', 'HOODED MERGANSER', 'HOOPOES', 'HORNED GUAN', 'HORNED LARK', 'HORNED SUNGEM', 'HOUSE FINCH', 'HOUSE SPARROW', 'HYACINTH MACAW', 'IBERIAN MAGPIE', 'IBISBILL', 'IMPERIAL SHAQ', 'INCA TERN', 'INDIAN BUSTARD', 'INDIAN PITTA', 'INDIAN ROLLER', 'INDIAN VULTURE', 'INDIGO BUNTING', 'INDIGO FLYCATCHER', 'INLAND DOTTEREL', 'IVORY BILLED ARACARI', 'IVORY GULL', 'IWI', 'JABIRU', 'JACK SNIPE', 'JACOBIN PIGEON', 'JANDAYA PARAKEET', 'JAPANESE ROBIN', 'JAVA SPARROW', 'JOCOTOCO ANTPITTA', 'KAGU', 'KAKAPO', 'KILLDEAR', 'KING EIDER', 'KING VULTURE', 'KIWI', 'KNOB BILLED DUCK', 'KOOKABURRA', 'LARK BUNTING', 'LAUGHING GULL', 'LAZULI BUNTING', 'LESSER ADJUTANT', 'LILAC ROLLER', 'LIMPKIN', 'LITTLE AUK', 'LOGGERHEAD SHRIKE', 'LONG-EARED OWL', 'LOONEY BIRDS', 'LUCIFER HUMMINGBIRD', 'MAGPIE GOOSE', 'MALABAR HORNBILL', 'MALACHITE KINGFISHER', 'MALAGASY WHITE EYE', 'MALEO', 'MALLARD DUCK', 'MANDRIN DUCK', 'MANGROVE CUCKOO', 'MARABOU STORK', 'MASKED BOBWHITE', 'MASKED BOOBY', 'MASKED LAPWING', 'MCKAYS BUNTING', 'MERLIN', 'MIKADO  PHEASANT', 'MILITARY MACAW', 'MOURNING DOVE', 'MYNA', 'NICOBAR PIGEON', 'NOISY FRIARBIRD', 'NORTHERN BEARDLESS TYRANNULET', 'NORTHERN CARDINAL', 'NORTHERN FLICKER', 'NORTHERN FULMAR', 'NORTHERN GANNET', 'NORTHERN GOSHAWK', 'NORTHERN JACANA', 'NORTHERN MOCKINGBIRD', 'NORTHERN PARULA', 'NORTHERN RED BISHOP', 'NORTHERN SHOVELER', 'OCELLATED TURKEY', 'OILBIRD', 'OKINAWA RAIL', 'ORANGE BREASTED TROGON', 'ORANGE BRESTED BUNTING', 'ORIENTAL BAY OWL', 'ORNATE HAWK EAGLE', 'OSPREY', 'OSTRICH', 'OVENBIRD', 'OYSTER CATCHER', 'PAINTED BUNTING', 'PALILA', 'PALM NUT VULTURE', 'PARADISE TANAGER', 'PARAKETT  AUKLET', 'PARUS MAJOR', 'PATAGONIAN SIERRA FINCH', 'PEACOCK', 'PEREGRINE FALCON', 'PHAINOPEPLA', 'PHILIPPINE EAGLE', 'PINK ROBIN', 'PLUSH CRESTED JAY', 'POMARINE JAEGER', 'PUFFIN', 'PUNA TEAL', 'PURPLE FINCH', 'PURPLE GALLINULE', 'PURPLE MARTIN', 'PURPLE SWAMPHEN', 'PYGMY KINGFISHER', 'PYRRHULOXIA', 'QUETZAL', 'RAINBOW LORIKEET', 'RAZORBILL', 'RED BEARDED BEE EATER', 'RED BELLIED PITTA', 'RED BILLED TROPICBIRD', 'RED BROWED FINCH', 'RED CROSSBILL', 'RED FACED CORMORANT', 'RED FACED WARBLER', 'RED FODY', 'RED HEADED DUCK', 'RED HEADED WOODPECKER', 'RED KNOT', 'RED LEGGED HONEYCREEPER', 'RED NAPED TROGON', 'RED SHOULDERED HAWK', 'RED TAILED HAWK', 'RED TAILED THRUSH', 'RED WINGED BLACKBIRD', 'RED WISKERED BULBUL', 'REGENT BOWERBIRD', 'RING-NECKED PHEASANT', 'ROADRUNNER', 'ROCK DOVE', 'ROSE BREASTED COCKATOO', 'ROSE BREASTED GROSBEAK', 'ROSEATE SPOONBILL', 'ROSY FACED LOVEBIRD', 'ROUGH LEG BUZZARD', 'ROYAL FLYCATCHER', 'RUBY CROWNED KINGLET', 'RUBY THROATED HUMMINGBIRD', 'RUDDY SHELDUCK', 'RUDY KINGFISHER', 'RUFOUS KINGFISHER', 'RUFOUS TREPE', 'RUFUOS MOTMOT', 'SAMATRAN THRUSH', 'SAND MARTIN', 'SANDHILL CRANE', 'SATYR TRAGOPAN', 'SAYS PHOEBE', 'SCARLET CROWNED FRUIT DOVE', 'SCARLET FACED LIOCICHLA', 'SCARLET IBIS', 'SCARLET MACAW', 'SCARLET TANAGER', 'SHOEBILL', 'SHORT BILLED DOWITCHER', 'SMITHS LONGSPUR', 'SNOW GOOSE', 'SNOW PARTRIDGE', 'SNOWY EGRET', 'SNOWY OWL', 'SNOWY PLOVER', 'SNOWY SHEATHBILL', 'SORA', 'SPANGLED COTINGA', 'SPLENDID WREN', 'SPOON BILED SANDPIPER', 'SPOTTED CATBIRD', 'SPOTTED WHISTLING DUCK', 'SQUACCO HERON', 'SRI LANKA BLUE MAGPIE', 'STEAMER DUCK', 'STORK BILLED KINGFISHER', 'STRIATED CARACARA', 'STRIPED OWL', 'STRIPPED MANAKIN', 'STRIPPED SWALLOW', 'SUNBITTERN', 'SUPERB STARLING', 'SURF SCOTER', 'SWINHOES PHEASANT', 'TAILORBIRD', 'TAIWAN MAGPIE', 'TAKAHE', 'TASMANIAN HEN', 'TAWNY FROGMOUTH', 'TEAL DUCK', 'TIT MOUSE', 'TOUCHAN', 'TOWNSENDS WARBLER', 'TREE SWALLOW', 'TRICOLORED BLACKBIRD', 'TROPICAL KINGBIRD', 'TRUMPTER SWAN', 'TURKEY VULTURE', 'TURQUOISE MOTMOT', 'UMBRELLA BIRD', 'VARIED THRUSH', 'VEERY', 'VENEZUELIAN TROUPIAL', 'VERDIN', 'VERMILION FLYCATHER', 'VICTORIA CROWNED PIGEON', 'VIOLET BACKED STARLING', 'VIOLET CUCKOO', 'VIOLET GREEN SWALLOW', 'VIOLET TURACO', 'VISAYAN HORNBILL', 'VULTURINE GUINEAFOWL', 'WALL CREAPER', 'WATTLED CURASSOW', 'WATTLED LAPWING', 'WHIMBREL', 'WHITE BREASTED WATERHEN', 'WHITE BROWED CRAKE', 'WHITE CHEEKED TURACO', 'WHITE CRESTED HORNBILL', 'WHITE EARED HUMMINGBIRD', 'WHITE NECKED RAVEN', 'WHITE TAILED TROPIC', 'WHITE THROATED BEE EATER', 'WILD TURKEY', 'WILLOW PTARMIGAN', 'WILSONS BIRD OF PARADISE', 'WOOD DUCK', 'WOOD THRUSH', 'WOODLAND KINGFISHER', 'WRENTIT', 'YELLOW BELLIED FLOWERPECKER', 'YELLOW BREASTED CHAT', 'YELLOW CACIQUE', 'YELLOW HEADED BLACKBIRD', 'ZEBRA DOVE']\n"
     ]
    }
   ]
  },
  {
   "cell_type": "code",
   "source": [
    "augmented_gen = ImageDataGenerator(\n",
    "    rescale=1./255, \n",
    "    rotation_range=40,\n",
    "    width_shift_range=0.2,\n",
    "    height_shift_range=0.2,\n",
    "    zoom_range=0.2,\n",
    "    horizontal_flip=True,\n",
    "    fill_mode='nearest') \n",
    "\n",
    "general_datagen = ImageDataGenerator(rescale = 1./255) # for training, validation and testing data\n",
    "\n",
    "train_generator = general_datagen.flow_from_directory(\n",
    "    train_directory,\n",
    "    target_size = (224, 224),\n",
    "    batch_size = 32\n",
    ")\n",
    "valid_generator = general_datagen.flow_from_directory(\n",
    "    val_directory,\n",
    "    target_size = (224, 224),\n",
    "    batch_size = 32\n",
    ")\n",
    "test_generator = general_datagen.flow_from_directory(\n",
    "    test_directory,\n",
    "    target_size = (224, 224),\n",
    "    batch_size = 32\n",
    ")"
   ],
   "metadata": {
    "execution": {
     "iopub.status.busy": "2023-09-11T14:30:32.483766Z",
     "iopub.execute_input": "2023-09-11T14:30:32.484494Z",
     "iopub.status.idle": "2023-09-11T14:30:42.768906Z",
     "shell.execute_reply.started": "2023-09-11T14:30:32.484459Z",
     "shell.execute_reply": "2023-09-11T14:30:42.767915Z"
    },
    "trusted": true,
    "ExecuteTime": {
     "end_time": "2023-09-20T10:01:28.148575600Z",
     "start_time": "2023-09-20T10:01:23.373748700Z"
    }
   },
   "execution_count": 4,
   "outputs": [
    {
     "name": "stdout",
     "output_type": "stream",
     "text": [
      "Found 84635 images belonging to 525 classes.\n",
      "Found 2625 images belonging to 525 classes.\n",
      "Found 2625 images belonging to 525 classes.\n"
     ]
    }
   ]
  },
  {
   "cell_type": "code",
   "source": [
    "# ploting a sample from my data\n",
    "def plot_image(generator):\n",
    "    images_in_batch = next(generator) # images_in_batch will output (batch_size, height, width, n_channels)\n",
    "    img = images_in_batch[0][0] # img will output (height, width, n_chennels)\n",
    "    \n",
    "    plt.imshow(img)\n",
    "\n",
    "# plot_image(train_generator)"
   ],
   "metadata": {
    "execution": {
     "iopub.status.busy": "2023-09-11T14:30:42.770955Z",
     "iopub.execute_input": "2023-09-11T14:30:42.7713Z",
     "iopub.status.idle": "2023-09-11T14:30:43.37768Z",
     "shell.execute_reply.started": "2023-09-11T14:30:42.771266Z",
     "shell.execute_reply": "2023-09-11T14:30:43.373351Z"
    },
    "trusted": true,
    "ExecuteTime": {
     "end_time": "2023-09-20T10:01:28.175574100Z",
     "start_time": "2023-09-20T10:01:28.045262900Z"
    }
   },
   "execution_count": 5,
   "outputs": []
  },
  {
   "cell_type": "code",
   "source": [
    "# i will be using it to determine steps_per_epoch in my models.\n",
    "train_groups = len(train_generator) \n",
    "valid_groups = len(valid_generator) # validation_step\n",
    "\n",
    "print(f\"Train groups: {train_groups}\")\n",
    "print(f\"Validation groups: {valid_groups}\")"
   ],
   "metadata": {
    "execution": {
     "iopub.status.busy": "2023-09-11T14:30:43.378734Z",
     "iopub.execute_input": "2023-09-11T14:30:43.379173Z",
     "iopub.status.idle": "2023-09-11T14:30:43.386997Z",
     "shell.execute_reply.started": "2023-09-11T14:30:43.379134Z",
     "shell.execute_reply": "2023-09-11T14:30:43.384135Z"
    },
    "trusted": true,
    "ExecuteTime": {
     "end_time": "2023-09-20T10:01:28.188574100Z",
     "start_time": "2023-09-20T10:01:28.060261700Z"
    }
   },
   "execution_count": 6,
   "outputs": [
    {
     "name": "stdout",
     "output_type": "stream",
     "text": [
      "Train groups: 2645\n",
      "Validation groups: 83\n"
     ]
    }
   ]
  },
  {
   "cell_type": "markdown",
   "source": [
    "## Playing with my base model"
   ],
   "metadata": {}
  },
  {
   "cell_type": "code",
   "source": [
    "# convolution layer that we will be used in out model i added batch normalization to accelerate the model and for generalization\n",
    "def conv_layer(inputs, filters, kernel_size=3, padding=\"valid\"):\n",
    "    x = layers.Conv2D(filters = filters, kernel_size = kernel_size, padding = padding, use_bias = False)(inputs)\n",
    "    x = layers.BatchNormalization()(x)\n",
    "    x = layers.Activation(\"relu\")(x)\n",
    "    \n",
    "    return x\n",
    "# pooling layer i added dropout cause it help my model to reduce the overfitting\n",
    "def pooling_layer(inputs, pool_size = 2, dropout_rate=0.5):\n",
    "    x = layers.MaxPooling2D(pool_size = pool_size)(inputs)\n",
    "    x = layers.BatchNormalization()(x)\n",
    "    x = layers.Dropout(dropout_rate)(x)\n",
    "    \n",
    "    return x\n",
    "\n",
    "# this dense layer i will not only use it for my base model i will use it in the pretrained model too\n",
    "def dense_layer(inputs, out, dropout_rate = 0.5):\n",
    "    x = layers.Dense(out)(inputs)\n",
    "    x = layers.BatchNormalization()(x)\n",
    "    x = layers.Activation(\"relu\")(x)\n",
    "    x = layers.Dropout(dropout_rate)(x)\n",
    "    \n",
    "    return x"
   ],
   "metadata": {
    "execution": {
     "iopub.status.busy": "2023-09-11T14:30:43.389455Z",
     "iopub.execute_input": "2023-09-11T14:30:43.389961Z",
     "iopub.status.idle": "2023-09-11T14:30:43.399828Z",
     "shell.execute_reply.started": "2023-09-11T14:30:43.389928Z",
     "shell.execute_reply": "2023-09-11T14:30:43.398836Z"
    },
    "trusted": true,
    "ExecuteTime": {
     "end_time": "2023-09-20T10:01:28.193573700Z",
     "start_time": "2023-09-20T10:01:28.080128Z"
    }
   },
   "execution_count": 7,
   "outputs": []
  },
  {
   "cell_type": "code",
   "source": [
    "# in first my model was only two blocks gradually from 64 to 128 filters and gives me an accuracy of 55%\n",
    "# so i added the dropouts and the batch normalization that above and set my filters to 64 and to make it better i added another block\n",
    "# and changes in the dense layer before my output and play with my optimizer, the model gives me an acc of +75& on the test data\n",
    "# i stoped then, with more to add to my arch to make it better, i can add residual connection to it and play with things but i stopped cause it take time and the gpu\n",
    "\n",
    "keras.backend.clear_session()\n",
    "\n",
    "inputs = keras.Input(shape = (224, 224, 3))\n",
    "\n",
    "x = conv_layer(inputs, 64, padding = \"same\")  # 224x224\n",
    "x = conv_layer(x, 64)                         # 222x222\n",
    "x = pooling_layer(x)                          # 111x111\n",
    "\n",
    "x = conv_layer(x, 64, padding = \"same\")       # 111x111\n",
    "x = conv_layer(x, 64)                         # 109x109\n",
    "x = pooling_layer(x)                          # 54x54\n",
    "\n",
    "x = conv_layer(x, 64, padding = \"same\")       # 54x54\n",
    "x = conv_layer(x, 64)                         # 52X52\n",
    "x = pooling_layer(x)                          # 26x26\n",
    "\n",
    "x = conv_layer(x, 64, padding = \"same\")       # 26x26\n",
    "\n",
    "x = layers.Flatten()(x)                       # 26*26*64\n",
    "\n",
    "x = dense_layer(x, 512)\n",
    "\n",
    "outputs = layers.Dense(category_count, activation = \"softmax\")(x)\n",
    "\n",
    "base_model = keras.Model(inputs, outputs)\n",
    "\n",
    "base_model.summary()"
   ],
   "metadata": {
    "execution": {
     "iopub.status.busy": "2023-09-11T02:21:03.191128Z",
     "iopub.execute_input": "2023-09-11T02:21:03.191919Z",
     "iopub.status.idle": "2023-09-11T02:21:06.718665Z",
     "shell.execute_reply.started": "2023-09-11T02:21:03.191883Z",
     "shell.execute_reply": "2023-09-11T02:21:06.717859Z"
    },
    "trusted": true,
    "ExecuteTime": {
     "end_time": "2023-09-20T10:01:30.147653700Z",
     "start_time": "2023-09-20T10:01:28.089574800Z"
    }
   },
   "execution_count": 8,
   "outputs": [
    {
     "name": "stdout",
     "output_type": "stream",
     "text": [
      "Model: \"model\"\n",
      "_________________________________________________________________\n",
      " Layer (type)                Output Shape              Param #   \n",
      "=================================================================\n",
      " input_1 (InputLayer)        [(None, 224, 224, 3)]     0         \n",
      "                                                                 \n",
      " conv2d (Conv2D)             (None, 224, 224, 64)      1728      \n",
      "                                                                 \n",
      " batch_normalization (Batch  (None, 224, 224, 64)      256       \n",
      " Normalization)                                                  \n",
      "                                                                 \n",
      " activation (Activation)     (None, 224, 224, 64)      0         \n",
      "                                                                 \n",
      " conv2d_1 (Conv2D)           (None, 222, 222, 64)      36864     \n",
      "                                                                 \n",
      " batch_normalization_1 (Bat  (None, 222, 222, 64)      256       \n",
      " chNormalization)                                                \n",
      "                                                                 \n",
      " activation_1 (Activation)   (None, 222, 222, 64)      0         \n",
      "                                                                 \n",
      " max_pooling2d (MaxPooling2  (None, 111, 111, 64)      0         \n",
      " D)                                                              \n",
      "                                                                 \n",
      " batch_normalization_2 (Bat  (None, 111, 111, 64)      256       \n",
      " chNormalization)                                                \n",
      "                                                                 \n",
      " dropout (Dropout)           (None, 111, 111, 64)      0         \n",
      "                                                                 \n",
      " conv2d_2 (Conv2D)           (None, 111, 111, 64)      36864     \n",
      "                                                                 \n",
      " batch_normalization_3 (Bat  (None, 111, 111, 64)      256       \n",
      " chNormalization)                                                \n",
      "                                                                 \n",
      " activation_2 (Activation)   (None, 111, 111, 64)      0         \n",
      "                                                                 \n",
      " conv2d_3 (Conv2D)           (None, 109, 109, 64)      36864     \n",
      "                                                                 \n",
      " batch_normalization_4 (Bat  (None, 109, 109, 64)      256       \n",
      " chNormalization)                                                \n",
      "                                                                 \n",
      " activation_3 (Activation)   (None, 109, 109, 64)      0         \n",
      "                                                                 \n",
      " max_pooling2d_1 (MaxPoolin  (None, 54, 54, 64)        0         \n",
      " g2D)                                                            \n",
      "                                                                 \n",
      " batch_normalization_5 (Bat  (None, 54, 54, 64)        256       \n",
      " chNormalization)                                                \n",
      "                                                                 \n",
      " dropout_1 (Dropout)         (None, 54, 54, 64)        0         \n",
      "                                                                 \n",
      " conv2d_4 (Conv2D)           (None, 54, 54, 64)        36864     \n",
      "                                                                 \n",
      " batch_normalization_6 (Bat  (None, 54, 54, 64)        256       \n",
      " chNormalization)                                                \n",
      "                                                                 \n",
      " activation_4 (Activation)   (None, 54, 54, 64)        0         \n",
      "                                                                 \n",
      " conv2d_5 (Conv2D)           (None, 52, 52, 64)        36864     \n",
      "                                                                 \n",
      " batch_normalization_7 (Bat  (None, 52, 52, 64)        256       \n",
      " chNormalization)                                                \n",
      "                                                                 \n",
      " activation_5 (Activation)   (None, 52, 52, 64)        0         \n",
      "                                                                 \n",
      " max_pooling2d_2 (MaxPoolin  (None, 26, 26, 64)        0         \n",
      " g2D)                                                            \n",
      "                                                                 \n",
      " batch_normalization_8 (Bat  (None, 26, 26, 64)        256       \n",
      " chNormalization)                                                \n",
      "                                                                 \n",
      " dropout_2 (Dropout)         (None, 26, 26, 64)        0         \n",
      "                                                                 \n",
      " conv2d_6 (Conv2D)           (None, 26, 26, 64)        36864     \n",
      "                                                                 \n",
      " batch_normalization_9 (Bat  (None, 26, 26, 64)        256       \n",
      " chNormalization)                                                \n",
      "                                                                 \n",
      " activation_6 (Activation)   (None, 26, 26, 64)        0         \n",
      "                                                                 \n",
      " flatten (Flatten)           (None, 43264)             0         \n",
      "                                                                 \n",
      " dense (Dense)               (None, 512)               22151680  \n",
      "                                                                 \n",
      " batch_normalization_10 (Ba  (None, 512)               2048      \n",
      " tchNormalization)                                               \n",
      "                                                                 \n",
      " activation_7 (Activation)   (None, 512)               0         \n",
      "                                                                 \n",
      " dropout_3 (Dropout)         (None, 512)               0         \n",
      "                                                                 \n",
      " dense_1 (Dense)             (None, 525)               269325    \n",
      "                                                                 \n",
      "=================================================================\n",
      "Total params: 22648525 (86.40 MB)\n",
      "Trainable params: 22646221 (86.39 MB)\n",
      "Non-trainable params: 2304 (9.00 KB)\n",
      "_________________________________________________________________\n"
     ]
    }
   ]
  },
  {
   "cell_type": "code",
   "source": [
    "base_model.compile(optimizer =keras.optimizers.Adam(learning_rate = 0.001),\n",
    "               loss = 'categorical_crossentropy',\n",
    "               metrics = ['accuracy'])\n",
    "#fit model\n",
    "history = base_model.fit( \n",
    "    train_generator,\n",
    "    steps_per_epoch = train_groups,\n",
    "    epochs = 20, # adding more epochs will increase the acc like 1% or 2%\n",
    "    validation_data = valid_generator,\n",
    "    validation_steps = valid_groups,\n",
    "    verbose = 1,\n",
    "    callbacks=[keras.callbacks.EarlyStopping(monitor='val_accuracy', patience = 5, restore_best_weights = True),\n",
    "               keras.callbacks.ReduceLROnPlateau(monitor = 'val_loss', factor = 0.7, patience = 2, verbose = 1),\n",
    "    keras.callbacks.ModelCheckpoint(\n",
    "            filepath = \"intial_model.keras\",\n",
    "            save_best_only = True,\n",
    "            monitor = \"val_loss\")\n",
    "    ])"
   ],
   "metadata": {
    "execution": {
     "iopub.status.busy": "2023-09-11T02:21:07.028817Z",
     "iopub.execute_input": "2023-09-11T02:21:07.029204Z",
     "iopub.status.idle": "2023-09-11T05:21:08.01705Z",
     "shell.execute_reply.started": "2023-09-11T02:21:07.029173Z",
     "shell.execute_reply": "2023-09-11T05:21:08.015947Z"
    },
    "trusted": true,
    "is_executing": true,
    "ExecuteTime": {
     "start_time": "2023-09-20T10:01:29.145141900Z"
    }
   },
   "execution_count": null,
   "outputs": [
    {
     "name": "stdout",
     "output_type": "stream",
     "text": [
      "Epoch 1/20\n",
      "   1/2645 [..............................] - ETA: 9:26:52 - loss: 6.7041 - accuracy: 0.0000e+00"
     ]
    }
   ]
  },
  {
   "cell_type": "code",
   "source": [
    "accuracy = history.history[\"accuracy\"]\n",
    "val_accuracy = history.history[\"val_accuracy\"]\n",
    "\n",
    "loss = history.history[\"loss\"]\n",
    "val_loss = history.history[\"val_loss\"]\n",
    "\n",
    "epochs = range(1, len(accuracy) + 1)\n",
    "\n",
    "plt.plot(epochs, accuracy, \"bo\", label = \"Trianing accuracy\")\n",
    "plt.plot(epochs, val_accuracy, \"b-\", label = \"Validation accuracy\")\n",
    "plt.title(\"Accuracy on training and validation data\")\n",
    "plt.legend()\n",
    "plt.figure()\n",
    "\n",
    "plt.plot(epochs, loss, \"bo\", label = \"Trianing loss\")\n",
    "plt.plot(epochs, val_loss, \"b-\", label = \"Validation loss\")\n",
    "plt.title(\"loss on training and validation data\")\n",
    "plt.title(\"loss on training and validation data\")\n",
    "plt.legend()\n",
    "plt.show()"
   ],
   "metadata": {
    "execution": {
     "iopub.status.busy": "2023-09-11T05:21:08.020393Z",
     "iopub.execute_input": "2023-09-11T05:21:08.021131Z",
     "iopub.status.idle": "2023-09-11T05:21:08.635455Z",
     "shell.execute_reply.started": "2023-09-11T05:21:08.021085Z",
     "shell.execute_reply": "2023-09-11T05:21:08.634482Z"
    },
    "trusted": true,
    "is_executing": true
   },
   "execution_count": null,
   "outputs": []
  },
  {
   "cell_type": "code",
   "source": [
    "# testing the model on the testset\n",
    "test_model_base = keras.models.load_model(\"intial_model.keras\")\n",
    "_, test_acc = test_model_base.evaluate(test_generator)\n",
    "print(f\"The accuracy of the intial model on the test set is : {test_acc:.3f}\")"
   ],
   "metadata": {
    "execution": {
     "iopub.status.busy": "2023-09-11T05:21:08.636844Z",
     "iopub.execute_input": "2023-09-11T05:21:08.637635Z",
     "iopub.status.idle": "2023-09-11T05:21:53.133732Z",
     "shell.execute_reply.started": "2023-09-11T05:21:08.637595Z",
     "shell.execute_reply": "2023-09-11T05:21:53.132377Z"
    },
    "trusted": true,
    "is_executing": true
   },
   "execution_count": null,
   "outputs": []
  },
  {
   "cell_type": "markdown",
   "source": [
    "## Transfer learning"
   ],
   "metadata": {}
  },
  {
   "cell_type": "markdown",
   "source": [
    "#### we will use transfer learnig as feature extraction we will use some models, i used (VGG16 & mobilenet and (Xception\"i delete it cause its performance like mobilenet in acc and it take longer time time\"))"
   ],
   "metadata": {}
  },
  {
   "cell_type": "markdown",
   "source": [
    "### The VGG16 model"
   ],
   "metadata": {}
  },
  {
   "cell_type": "code",
   "source": [
    "# first it gives me an acc of 75% and after some changes with the dense layer and the callbacks it gives me an acc of almost 80% on my test data\n",
    "# but the loss i didn't love it, it get higher and make much changes but it didn't get well!\n",
    "keras.backend.clear_session()\n",
    "\n",
    "# load the model\n",
    "conv_base_vgg16 = keras.applications.vgg16.VGG16(\n",
    "    include_top = False,\n",
    "    weights = \"imagenet\",\n",
    "    input_shape = (224, 224, 3)\n",
    ")\n",
    "conv_base_vgg16.trainable = False # beacuse we will use it as a feature extraction\n",
    "\n",
    "inputs = keras.Input(shape = (224, 224, 3))\n",
    "\n",
    "x = conv_base_vgg16(inputs)\n",
    "\n",
    "x = layers.Flatten()(x)\n",
    "\n",
    "x = dense_layer(x, 512)\n",
    "\n",
    "outputs = layers.Dense(category_count, activation = \"softmax\")(x)\n",
    "vgg16_model = keras.Model(inputs, outputs)\n",
    "\n",
    "vgg16_model.summary()"
   ],
   "metadata": {
    "execution": {
     "iopub.status.busy": "2023-09-11T12:10:32.243563Z",
     "iopub.execute_input": "2023-09-11T12:10:32.244021Z",
     "iopub.status.idle": "2023-09-11T12:10:32.89511Z",
     "shell.execute_reply.started": "2023-09-11T12:10:32.243983Z",
     "shell.execute_reply": "2023-09-11T12:10:32.894307Z"
    },
    "trusted": true,
    "is_executing": true
   },
   "execution_count": null,
   "outputs": []
  },
  {
   "cell_type": "code",
   "source": [
    "vgg16_model.compile(optimizer = tf.keras.optimizers.Adam(lr=0.001),\n",
    "                    loss = \"categorical_crossentropy\",\n",
    "                    metrics = [\"accuracy\"]\n",
    ")\n",
    "callbacks=[\n",
    "    keras.callbacks.EarlyStopping(monitor='val_accuracy', patience = 5, restore_best_weights = True),\n",
    "    \n",
    "    keras.callbacks.ReduceLROnPlateau(monitor = 'val_loss', factor = 0.7, patience = 2, verbose = 1),\n",
    "    \n",
    "    keras.callbacks.ModelCheckpoint( filepath = \"vgg16_model.keras\",save_best_only = True,monitor = \"val_loss\")\n",
    "]\n",
    "\n",
    "history = vgg16_model.fit( \n",
    "    train_generator, \n",
    "    steps_per_epoch = train_groups, \n",
    "    epochs = 20, # adding more epochs will increase the acc like 1% or 2%\n",
    "    validation_data = valid_generator,\n",
    "    validation_steps = valid_groups,\n",
    "    verbose = 1,\n",
    "    callbacks=callbacks\n",
    ")"
   ],
   "metadata": {
    "execution": {
     "iopub.status.busy": "2023-09-11T12:10:58.386806Z",
     "iopub.execute_input": "2023-09-11T12:10:58.387169Z",
     "iopub.status.idle": "2023-09-11T13:27:34.687552Z",
     "shell.execute_reply.started": "2023-09-11T12:10:58.387137Z",
     "shell.execute_reply": "2023-09-11T13:27:34.686537Z"
    },
    "trusted": true,
    "is_executing": true
   },
   "execution_count": null,
   "outputs": []
  },
  {
   "cell_type": "code",
   "source": [
    "accuracy = history.history[\"accuracy\"]\n",
    "val_accuracy = history.history[\"val_accuracy\"]\n",
    "\n",
    "loss = history.history[\"loss\"]\n",
    "val_loss = history.history[\"val_loss\"]\n",
    "\n",
    "epochs = range(1, len(accuracy) + 1)\n",
    "\n",
    "plt.plot(epochs, accuracy, \"bo\", label = \"Trianing accuracy\")\n",
    "plt.plot(epochs, val_accuracy, \"b-\", label = \"Validation accuracy\")\n",
    "plt.title(\"Accuracy on training and validation data\")\n",
    "plt.legend()\n",
    "plt.figure()\n",
    "\n",
    "plt.plot(epochs, loss, \"bo\", label = \"Trianing loss\")\n",
    "plt.plot(epochs, val_loss, \"b-\", label = \"Validation loss\")\n",
    "plt.title(\"loss on training and validation data\")\n",
    "plt.title(\"loss on training and validation data\")\n",
    "plt.legend()\n",
    "plt.show()"
   ],
   "metadata": {
    "execution": {
     "iopub.status.busy": "2023-09-11T13:27:34.689742Z",
     "iopub.execute_input": "2023-09-11T13:27:34.690134Z",
     "iopub.status.idle": "2023-09-11T13:27:35.293547Z",
     "shell.execute_reply.started": "2023-09-11T13:27:34.690098Z",
     "shell.execute_reply": "2023-09-11T13:27:35.292585Z"
    },
    "trusted": true,
    "is_executing": true
   },
   "execution_count": null,
   "outputs": []
  },
  {
   "cell_type": "code",
   "source": [
    "test_model_vgg16 = keras.models.load_model(\"vgg16_model.keras\")\n",
    "_, test_acc = test_model_vgg16.evaluate(test_generator)\n",
    "print(f\"The accuracy of the vgg16 model on the test set is : {test_acc:.3f}\")"
   ],
   "metadata": {
    "execution": {
     "iopub.status.busy": "2023-09-11T13:27:35.294851Z",
     "iopub.execute_input": "2023-09-11T13:27:35.295254Z",
     "iopub.status.idle": "2023-09-11T13:27:58.213244Z",
     "shell.execute_reply.started": "2023-09-11T13:27:35.295217Z",
     "shell.execute_reply": "2023-09-11T13:27:58.21215Z"
    },
    "trusted": true,
    "is_executing": true
   },
   "execution_count": null,
   "outputs": []
  },
  {
   "cell_type": "markdown",
   "source": [
    "### MobileNet"
   ],
   "metadata": {}
  },
  {
   "cell_type": "code",
   "source": [
    "keras.backend.clear_session()\n",
    "\n",
    "base_mobilenet = keras.applications.MobileNet(\n",
    "    weights = 'imagenet',\n",
    "    include_top = False, \n",
    "    input_shape = (224, 224, 3)\n",
    ")\n",
    "base_mobilenet.trainable = False\n",
    "\n",
    "inputs = keras.Input(shape = (224, 224, 3))\n",
    "\n",
    "x = base_mobilenet(inputs)\n",
    "\n",
    "x = layers.Flatten()(x)\n",
    "\n",
    "x = dense_layer(x, 512)\n",
    "\n",
    "outputs = layers.Dense(category_count, activation = \"softmax\")(x)\n",
    "mobilenet_model = keras.Model(inputs, outputs)"
   ],
   "metadata": {
    "execution": {
     "iopub.status.busy": "2023-09-11T14:31:18.697956Z",
     "iopub.execute_input": "2023-09-11T14:31:18.698634Z",
     "iopub.status.idle": "2023-09-11T14:31:23.01619Z",
     "shell.execute_reply.started": "2023-09-11T14:31:18.698598Z",
     "shell.execute_reply": "2023-09-11T14:31:23.015174Z"
    },
    "trusted": true,
    "is_executing": true
   },
   "execution_count": null,
   "outputs": []
  },
  {
   "cell_type": "code",
   "source": [
    "mobilenet_model.compile(optimizer = tf.keras.optimizers.Adam(lr=0.001),\n",
    "                        loss = \"categorical_crossentropy\",\n",
    "                        metrics = [\"accuracy\"]\n",
    ")\n",
    "callbacks=[\n",
    "    keras.callbacks.EarlyStopping(monitor='val_accuracy', patience = 5, restore_best_weights = True),\n",
    "    \n",
    "    keras.callbacks.ReduceLROnPlateau(monitor = 'val_loss', factor = 0.7, patience = 2, verbose = 1),\n",
    "    \n",
    "    keras.callbacks.ModelCheckpoint( filepath = \"mobilenet_model.keras\",save_best_only = True,monitor = \"val_loss\")\n",
    "]\n",
    "history = mobilenet_model.fit( \n",
    "    train_generator, \n",
    "    steps_per_epoch = train_groups, \n",
    "    epochs = 20, # adding more epochs will increase the acc like 1% or 2%\n",
    "    validation_data = valid_generator,\n",
    "    validation_steps = valid_groups,\n",
    "    verbose = 1,\n",
    "    callbacks=callbacks\n",
    ")"
   ],
   "metadata": {
    "execution": {
     "iopub.status.busy": "2023-09-11T14:31:23.017935Z",
     "iopub.execute_input": "2023-09-11T14:31:23.018285Z",
     "iopub.status.idle": "2023-09-11T15:45:50.262221Z",
     "shell.execute_reply.started": "2023-09-11T14:31:23.018252Z",
     "shell.execute_reply": "2023-09-11T15:45:50.261164Z"
    },
    "trusted": true,
    "is_executing": true
   },
   "execution_count": null,
   "outputs": []
  },
  {
   "cell_type": "code",
   "source": [
    "accuracy = history.history[\"accuracy\"]\n",
    "val_accuracy = history.history[\"val_accuracy\"]\n",
    "\n",
    "loss = history.history[\"loss\"]\n",
    "val_loss = history.history[\"val_loss\"]\n",
    "\n",
    "epochs = range(1, len(accuracy) + 1)\n",
    "\n",
    "plt.plot(epochs, accuracy, \"bo\", label = \"Trianing accuracy\")\n",
    "plt.plot(epochs, val_accuracy, \"b-\", label = \"Validation accuracy\")\n",
    "plt.title(\"Accuracy on training and validation data\")\n",
    "plt.legend()\n",
    "plt.figure()\n",
    "\n",
    "plt.plot(epochs, loss, \"bo\", label = \"Trianing loss\")\n",
    "plt.plot(epochs, val_loss, \"b-\", label = \"Validation loss\")\n",
    "plt.title(\"loss on training and validation data\")\n",
    "plt.title(\"loss on training and validation data\")\n",
    "plt.legend()\n",
    "plt.show()"
   ],
   "metadata": {
    "execution": {
     "iopub.status.busy": "2023-09-11T15:45:50.266296Z",
     "iopub.execute_input": "2023-09-11T15:45:50.266612Z",
     "iopub.status.idle": "2023-09-11T15:45:50.920749Z",
     "shell.execute_reply.started": "2023-09-11T15:45:50.266585Z",
     "shell.execute_reply": "2023-09-11T15:45:50.919788Z"
    },
    "trusted": true,
    "is_executing": true
   },
   "execution_count": null,
   "outputs": []
  },
  {
   "cell_type": "code",
   "source": [
    "test_model_mobile = keras.models.load_model(\"mobilenet_model.keras\")\n",
    "_, test_acc = test_model_mobile.evaluate(test_generator)\n",
    "print(f\"The accuracy of the mobilenet model on the test set is : {test_acc:.3f}\")"
   ],
   "metadata": {
    "execution": {
     "iopub.status.busy": "2023-09-11T15:45:50.922015Z",
     "iopub.execute_input": "2023-09-11T15:45:50.9225Z",
     "iopub.status.idle": "2023-09-11T15:46:14.589652Z",
     "shell.execute_reply.started": "2023-09-11T15:45:50.92246Z",
     "shell.execute_reply": "2023-09-11T15:46:14.58868Z"
    },
    "trusted": true,
    "is_executing": true
   },
   "execution_count": null,
   "outputs": []
  }
 ]
}
